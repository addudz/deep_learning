{
  "nbformat": 4,
  "nbformat_minor": 0,
  "metadata": {
    "colab": {
      "provenance": []
    },
    "kernelspec": {
      "name": "python3",
      "display_name": "Python 3"
    },
    "language_info": {
      "name": "python"
    }
  },
  "cells": [
    {
      "cell_type": "markdown",
      "source": [
        "# Sieci neuronowe z wykorzystaniem Kerasa (1)\n",
        "## Głębokie uczenie\n",
        "\n",
        "# 1. Podstawy\n"
      ],
      "metadata": {
        "id": "UtTlA1fCMpup"
      }
    },
    {
      "cell_type": "markdown",
      "source": [
        "**Zanim przejdziemy do bardziej zaawansowanego przykładu, zapoznamy się z Tensorflow i Keras. Przyjrzymy się pierwszemu konkretnemu przykładowi sieci neuronowej, która wykorzystuje bibliotekę Python Keras do nauki klasyfikacji odręcznie pisanych cyfr.**\n",
        "\n",
        "Problemem, który staramy się rozwiązać, jest klasyfikacja obrazów pogrubiony tekstodręcznych cyfr w skali szarości (28 pikseli na 28 pikseli) do 10 kategorii (od 0 do 9). Zbiór danych, którego użyjemy to MNIST. Jest to zestaw 60 000 obrazów treningowych plus 10 000 obrazów testowych, zebranych przez National Institute of Standards and Technology (NIST w MNIST) w latach 80-tych.\n",
        "\n",
        "Możesz myśleć o \"rozwiązywaniu\" MNIST jako o \"Hello World\" głębokiego uczenia się - to jest to, co robisz, aby sprawdzić, czy twoje algorytmy działają zgodnie z oczekiwaniami.\n",
        "\n",
        "Po pierwsze, zaimportujemy Keras (w oparciu o wersję Python/Tensorflow):"
      ],
      "metadata": {
        "id": "I9SBICeSNUfy"
      }
    },
    {
      "cell_type": "code",
      "source": [
        "from tensorflow import keras\n",
        "...\n",
        "import keras"
      ],
      "metadata": {
        "id": "c0Q_VZGlNT1j"
      },
      "execution_count": null,
      "outputs": []
    },
    {
      "cell_type": "markdown",
      "source": [
        "Jeśli korzystasz z najnowszej wersji Tensorflow (keras jest już dołączony), dodaj dodatkową funkcjonalność za pomocą:\n",
        "\n",
        "```\n",
        "from tensorflow import keras\n",
        "from tensorflow.keras import XXX\n",
        "```\n",
        "\n",
        "Zbiór danych MNIST jest wstępnie załadowany do Keras w postaci zestawu czterech tablic Numpy:"
      ],
      "metadata": {
        "id": "G6_jY1oOO5YY"
      }
    },
    {
      "cell_type": "code",
      "source": [
        "from keras.datasets import mnist\n",
        "\n",
        "(train_images, train_labels), (test_images, test_labels) = mnist.load_data()"
      ],
      "metadata": {
        "id": "sSYMk1IQPUwY",
        "colab": {
          "base_uri": "https://localhost:8080/"
        },
        "outputId": "0e5a45b7-ea08-4d42-d1aa-823d428db77d"
      },
      "execution_count": null,
      "outputs": [
        {
          "output_type": "stream",
          "name": "stdout",
          "text": [
            "Downloading data from https://storage.googleapis.com/tensorflow/tf-keras-datasets/mnist.npz\n",
            "11490434/11490434 [==============================] - 0s 0us/step\n"
          ]
        }
      ]
    },
    {
      "cell_type": "markdown",
      "source": [
        "**Zadanie 1**\n",
        "\n",
        "*   Sprawdź liczbę przykładów treningowych i testowych.\n",
        "*   Ile mamy etykiet?\n",
        "*   Sprawdź rozmiar obrazu i wykreśl kilka przykładów\n"
      ],
      "metadata": {
        "id": "FS2FZz-VPcUv"
      }
    },
    {
      "cell_type": "code",
      "source": [
        "#TODO\n",
        "print(\"train_images: \", str(train_images.shape))\n",
        "print(\"test_images: \", str(test_images.shape))\n",
        "print(\"-------------------------------------\")\n",
        "print(\"train_labels: \", str(train_labels.shape))\n",
        "print(\"test_labels: \", str(test_labels.shape))\n",
        "\n",
        "print(\"-------------------------------------\")\n",
        "#rozmiar obrazu\n",
        "print(\"rozmiar obrazu\", train_images[0].shape)\n",
        "\n",
        "print(\"-------------------------------------\")\n",
        "print(\"przyklad: \")\n",
        "from matplotlib import pyplot\n",
        "\n",
        "for i in range(10):\n",
        "  pyplot.subplot(5,2,i+1)\n",
        "  pyplot.imshow(train_images[i],cmap=pyplot.get_cmap('Oranges'))\n",
        "pyplot.show()"
      ],
      "metadata": {
        "colab": {
          "base_uri": "https://localhost:8080/",
          "height": 590
        },
        "id": "P2IlHvUZDYjt",
        "outputId": "8c0bb2db-5733-4321-fbe8-d378db4d245d"
      },
      "execution_count": null,
      "outputs": [
        {
          "output_type": "stream",
          "name": "stdout",
          "text": [
            "train_images:  (60000, 28, 28)\n",
            "test_images:  (10000, 28, 28)\n",
            "-------------------------------------\n",
            "train_labels:  (60000,)\n",
            "test_labels:  (10000,)\n",
            "-------------------------------------\n",
            "rozmiar obrazu (28, 28)\n",
            "-------------------------------------\n",
            "przyklad: \n"
          ]
        },
        {
          "output_type": "display_data",
          "data": {
            "text/plain": [
              "<Figure size 640x480 with 10 Axes>"
            ],
            "image/png": "[encoded data removed]"
          },
          "metadata": {}
        }
      ]
    },
    {
      "cell_type": "markdown",
      "source": [
        "**Przepływ pracy DNN**\n",
        "1. Tworzenie architektury sieci neuronowej.\n",
        "2. Trenuj naszą sieć neuronową za pomocą danych treningowych, train_images i train_labels. Następnie sieć nauczy się kojarzyć obrazy i etykiety.\n",
        "3. Sieć wygeneruje prognozy dla test_images i sprawdzimy, czy te prognozy są zgodne z etykietami z test_labels.\n",
        "\n",
        "**Architektura DNN**\n",
        "1. Nasza sieć będzie składać się z sekwencji dwóch warstw `Dense`, które są gęsto połączonymi (zwanymi również \"w pełni połączonymi\") warstwami neuronowymi.\n",
        "2. Druga (i ostatnia) warstwa to 10-kierunkowa warstwa \"softmax\", co oznacza, że zwróci ona tablicę 10 wyników prawdopodobieństwa (sumujących się do 1). Każdy wynik będzie prawdopodobieństwem, że bieżący obraz cyfry należy do jednej z naszych 10 klas cyfr.\n",
        "\n",
        "Trening DNN\n",
        "Aby nasza sieć była gotowa do treningu, musimy wybrać jeszcze trzy elementy w ramach etapu \"kompilacji\":\n",
        "1. **Funkcja straty**: Jest to sposób, w jaki sieć będzie w stanie zmierzyć, jak dobrze radzi sobie z danymi treningowymi, a tym samym, w jaki sposób będzie w stanie iść we właściwym kierunku.\n",
        "2. **Optymalizator**: jest to mechanizm, za pomocą którego sieć będzie się aktualizować w oparciu o dane, które widzi i funkcję strat.\n",
        "3. **Metryki**: do monitorowania podczas szkolenia i testowania. Tutaj będziemy dbać tylko o `dokładność` (ułamek obrazów, które zostały poprawnie sklasyfikowane).\n",
        "\n",
        "Dzisiaj, podczas naszych 3 przykładów, będziemy używać tylko klasy Sequential. Podczas naszych następnych spotkań przedstawię funkcjonalne API, w którym będziemy mogli manipulować tensorami danych przetwarzanymi przez model i stosować warstwy do tych tensorów tak, jakby były funkcjami.\n"
      ],
      "metadata": {
        "id": "tyvLX0LTPvFr"
      }
    },
    {
      "cell_type": "markdown",
      "source": [
        "**Architektura sieci**"
      ],
      "metadata": {
        "id": "jPWO4vhYRcUQ"
      }
    },
    {
      "cell_type": "code",
      "source": [
        "from keras import models\n",
        "from keras import layers\n",
        "\n",
        "network = models.Sequential()\n",
        "network.add(layers.Dense(512, activation='relu', input_shape=(28 * 28,)))\n",
        "network.add(layers.Dense(10, activation='softmax'))"
      ],
      "metadata": {
        "id": "2eprdtmQRgMo"
      },
      "execution_count": null,
      "outputs": []
    },
    {
      "cell_type": "markdown",
      "source": [
        "**Trening sieci**\n",
        "\n",
        "Po zdefiniowaniu architektury modelu proces uczenia można skonfigurować na etapie kompilacji. Określamy: optymalizator, funkcję straty i metryki."
      ],
      "metadata": {
        "id": "xICk2gK6RqBx"
      }
    },
    {
      "cell_type": "code",
      "source": [
        "network.compile(optimizer='rmsprop',\n",
        "                loss='categorical_crossentropy',\n",
        "                metrics=['accuracy'])"
      ],
      "metadata": {
        "id": "-dIvwKkiRvoa"
      },
      "execution_count": null,
      "outputs": []
    },
    {
      "cell_type": "markdown",
      "source": [
        "**Przygotowanie danych**\n",
        "\n",
        "Przed treningiem wstępnie przetworzymy nasze dane, przekształcając je w kształt oczekiwany przez sieć i skalując tak, aby wszystkie wartości mieściły się w przedziale [0, 1].\n",
        "\n",
        "Nasze obrazy treningowe są przechowywane w tablicy o kształcie (60000, 28, 28) typu uint8 z wartościami w przedziale [0, 255].\n",
        "\n",
        "Przekształć je w tablicę float32 typu shape (60000, 28 * 28) z wartościami od 0 do 1.\n",
        "Niezbędne funkcje: `reshape` i `astype`.\n",
        "\n",
        "**Wykonaj to zarówno dla przykładów treningowych, jak i testowych.**"
      ],
      "metadata": {
        "id": "2pp7U8xlR1vn"
      }
    },
    {
      "cell_type": "code",
      "source": [
        "# TODO\n",
        "train_images = train_images.reshape((60000, 28*28)).astype('float32')/255\n",
        "\n",
        "test_images = test_images.reshape((10000, 28*28)).astype('float32')/255\n"
      ],
      "metadata": {
        "id": "vPCGno2QSM9X"
      },
      "execution_count": null,
      "outputs": []
    },
    {
      "cell_type": "markdown",
      "source": [
        "Ponieważ używamy funkcji straty `categorical_crossentropy`, musimy przekonwertować format danych:"
      ],
      "metadata": {
        "id": "75qoxtmBSTdO"
      }
    },
    {
      "cell_type": "code",
      "source": [
        "from keras.utils import to_categorical\n",
        "\n",
        "train_labels = to_categorical(train_labels)\n",
        "test_labels = to_categorical(test_labels)"
      ],
      "metadata": {
        "id": "1izRkD_LSaJY"
      },
      "execution_count": null,
      "outputs": []
    },
    {
      "cell_type": "markdown",
      "source": [
        "**Dopasowanie modelu**\n",
        "\n",
        "Aby wytrenować naszą sieć, wywołujemy metodę dopasowania sieci z parametrami epochs i batch_size. Ustawmy epochs na 5, a batch_size na 128."
      ],
      "metadata": {
        "id": "JCvN2vJASgWX"
      }
    },
    {
      "cell_type": "code",
      "source": [
        "#TODO: dopasowywanie modelu\n",
        "network.fit(train_images, train_labels, epochs=5, batch_size=128)"
      ],
      "metadata": {
        "id": "lNWD171NSrlG",
        "colab": {
          "base_uri": "https://localhost:8080/"
        },
        "outputId": "d0ac053c-79a2-4a0e-f49d-f7850bba860d"
      },
      "execution_count": null,
      "outputs": [
        {
          "output_type": "stream",
          "name": "stdout",
          "text": [
            "Epoch 1/5\n",
            "469/469 [==============================] - 8s 15ms/step - loss: 0.2635 - accuracy: 0.9246\n",
            "Epoch 2/5\n",
            "469/469 [==============================] - 8s 17ms/step - loss: 0.1058 - accuracy: 0.9691\n",
            "Epoch 3/5\n",
            "469/469 [==============================] - 7s 15ms/step - loss: 0.0709 - accuracy: 0.9789\n",
            "Epoch 4/5\n",
            "469/469 [==============================] - 4s 9ms/step - loss: 0.0507 - accuracy: 0.9847\n",
            "Epoch 5/5\n",
            "469/469 [==============================] - 4s 9ms/step - loss: 0.0387 - accuracy: 0.9889\n"
          ]
        },
        {
          "output_type": "execute_result",
          "data": {
            "text/plain": [
              "<keras.src.callbacks.History at 0x797286bd1030>"
            ]
          },
          "metadata": {},
          "execution_count": 8
        }
      ]
    },
    {
      "cell_type": "markdown",
      "source": [
        "**Ocena sieci/Ewaluacja**\n",
        "\n",
        "Podczas treningu wyświetlane są dwie wielkości: \"strata\" sieci na danych szkoleniowych oraz dokładność sieci na danych szkoleniowych.\n",
        "Szybko osiągamy dokładność 0,989 (tj. 98,9%) na danych treningowych.\n",
        "\n",
        "Teraz sprawdźmy, czy nasz model działa dobrze również na zestawie testowym:"
      ],
      "metadata": {
        "id": "3p_Lx8NzSvWo"
      }
    },
    {
      "cell_type": "code",
      "source": [
        "test_loss, test_acc = network.evaluate(test_images, test_labels)\n",
        "\n",
        "print('test_acc:', test_acc)"
      ],
      "metadata": {
        "id": "LRb3leqhS7l2",
        "colab": {
          "base_uri": "https://localhost:8080/"
        },
        "outputId": "217c66a1-00ec-4c2b-f0e4-c2e916c94847"
      },
      "execution_count": null,
      "outputs": [
        {
          "output_type": "stream",
          "name": "stdout",
          "text": [
            "313/313 [==============================] - 1s 3ms/step - loss: 0.0715 - accuracy: 0.9773\n",
            "test_acc: 0.9772999882698059\n"
          ]
        }
      ]
    },
    {
      "cell_type": "markdown",
      "source": [
        "Dokładność naszego zestawu testowego okazuje się wynosić 97,8% - to znacznie mniej niż dokładność zestawu treningowego.\n",
        "Ta różnica między dokładnością treningu a dokładnością testu jest przykładem \"**nadmiernego dopasowania**\", czyli faktu, że modele uczenia maszynowego mają tendencję do osiągania gorszych wyników na nowych danych niż na danych treningowych.\n"
      ],
      "metadata": {
        "id": "-3jkpKtJTBWW"
      }
    }
  ]
}