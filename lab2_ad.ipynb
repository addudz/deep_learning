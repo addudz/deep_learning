{
  "nbformat": 4,
  "nbformat_minor": 0,
  "metadata": {
    "colab": {
      "provenance": []
    },
    "kernelspec": {
      "name": "python3",
      "display_name": "Python 3"
    },
    "language_info": {
      "name": "python"
    }
  },
  "cells": [
    {
      "cell_type": "markdown",
      "source": [
        "Informatyka Społeczna WH AGH 15.03.2024\n",
        "## Głębokie uczenie - laboratorium 2\n",
        "\n",
        "# 1. Problem klasyfikacji binarnej z wykorzystaniem Kerasa\n"
      ],
      "metadata": {
        "id": "UtTlA1fCMpup"
      }
    },
    {
      "cell_type": "markdown",
      "source": [
        "**Klasyfikacja dwuklasowa lub klasyfikacja binarna może być najczęściej stosowanym rodzajem problemu uczenia maszynowego. Celem tego laboratorium jest klasyfikacja recenzji filmów na \"pozytywne\" i \"negatywne\", tylko na podstawie zawartości tekstowej recenzji.**\n",
        "\n",
        "\n",
        "**Zbiór danych IMDB**\n",
        "\n",
        "Będziemy pracować z zestawem danych IMDB, zestawem 50 000 wysoce spolaryzowanych recenzji z Internet Movie Database. Są one podzielone na 25 000 recenzji do treningu i 25 000 recenzji do testów, przy czym każdy zestaw składa się w 50% z negatywnych i w 50% z pozytywnych recenzji.\n",
        "\n",
        "Podobnie jak zestaw danych MNIST, zestaw danych IMDB jest dostarczany w pakiecie z Keras.\n",
        "\n",
        "Został on już wstępnie przetworzony: recenzje (sekwencje słów) zostały przekształcone w sekwencje liczb całkowitych, gdzie każda liczba całkowita oznacza określone słowo w słowniku.\n",
        "\n",
        "Prosimy o załadowanie zbioru danych z Keras (przy pierwszym uruchomieniu na komputer zostanie pobrane około 80 MB danych):"
      ],
      "metadata": {
        "id": "-3jkpKtJTBWW"
      }
    },
    {
      "cell_type": "code",
      "source": [
        "from keras.datasets import imdb\n",
        "\n",
        "(train_data, train_labels), (test_data, test_labels) = imdb.load_data(num_words=10000)\n",
        "\n"
      ],
      "metadata": {
        "id": "JQLhjF4vUGsH"
      },
      "execution_count": 10,
      "outputs": []
    },
    {
      "cell_type": "code",
      "source": [
        "train_data[5]\n"
      ],
      "metadata": {
        "colab": {
          "base_uri": "https://localhost:8080/"
        },
        "id": "sGJ0YLKCdZpx",
        "outputId": "d614731b-114b-4a2f-cdba-5f6f0cf15dcf"
      },
      "execution_count": 13,
      "outputs": [
        {
          "output_type": "execute_result",
          "data": {
            "text/plain": [
              "[1,\n",
              " 778,\n",
              " 128,\n",
              " 74,\n",
              " 12,\n",
              " 630,\n",
              " 163,\n",
              " 15,\n",
              " 4,\n",
              " 1766,\n",
              " 7982,\n",
              " 1051,\n",
              " 2,\n",
              " 32,\n",
              " 85,\n",
              " 156,\n",
              " 45,\n",
              " 40,\n",
              " 148,\n",
              " 139,\n",
              " 121,\n",
              " 664,\n",
              " 665,\n",
              " 10,\n",
              " 10,\n",
              " 1361,\n",
              " 173,\n",
              " 4,\n",
              " 749,\n",
              " 2,\n",
              " 16,\n",
              " 3804,\n",
              " 8,\n",
              " 4,\n",
              " 226,\n",
              " 65,\n",
              " 12,\n",
              " 43,\n",
              " 127,\n",
              " 24,\n",
              " 2,\n",
              " 10,\n",
              " 10]"
            ]
          },
          "metadata": {},
          "execution_count": 13
        }
      ]
    },
    {
      "cell_type": "code",
      "source": [
        "train_labels[3]"
      ],
      "metadata": {
        "colab": {
          "base_uri": "https://localhost:8080/"
        },
        "id": "7-w7g0X6dl_x",
        "outputId": "7f3a413a-6eab-49ca-be62-5984105a237d"
      },
      "execution_count": 14,
      "outputs": [
        {
          "output_type": "execute_result",
          "data": {
            "text/plain": [
              "1"
            ]
          },
          "metadata": {},
          "execution_count": 14
        }
      ]
    },
    {
      "cell_type": "code",
      "source": [
        "train_labels[13]"
      ],
      "metadata": {
        "colab": {
          "base_uri": "https://localhost:8080/"
        },
        "id": "GH2xXoISdozZ",
        "outputId": "6ca1d91c-a5c4-42ef-d1b8-ef82bd6253c6"
      },
      "execution_count": 15,
      "outputs": [
        {
          "output_type": "execute_result",
          "data": {
            "text/plain": [
              "0"
            ]
          },
          "metadata": {},
          "execution_count": 15
        }
      ]
    },
    {
      "cell_type": "markdown",
      "source": [
        "Argument `num_words=10000` oznacza, że zachowamy tylko 10 000 najczęściej występujących słów w danych treningowych. Rzadkie słowa zostaną odrzucone. Pozwala nam to na pracę z danymi wektorowymi o rozsądnym rozmiarze.\n",
        "\n",
        "[ENG] PSI/EAIiIB 2024\n",
        "\n",
        "**Preparing the data**\n",
        "\n",
        "We cannot feed lists of integers into a neural network. We have to turn our lists into tensors. There are two ways we could do that:\n",
        "\n",
        "1. We could pad our lists so that they all have the same length, and turn them into an integer tensor of shape (samples, word_indices), then use as the first layer in our network a layer capable of handling such integer tensors.\n",
        "2. We could **one-hot-encode** our lists to turn them into vectors of 0s and 1s. Concretely, this would mean for instance turning the sequence [3, 5] into a 10,000-dimensional vector that would be all-zeros except for indices 3 and 5, which would be ones. Then we could use as the first layer in our network a Dense layer, capable of handling floating-point vector data.\n",
        "\n",
        "Please implement the **second solution**:"
      ],
      "metadata": {
        "id": "aU3Z4j3YUI7W"
      }
    },
    {
      "cell_type": "code",
      "source": [
        "import numpy as np\n",
        "\n",
        "def vectorize_sequences(sequences, dimension=10000):\n",
        "    # Create an all-zero matrix of shape (len(sequences), dimension)\n",
        "    results = np.zeros((len(sequences), dimension))\n",
        "    for i, sequence in enumerate(sequences):\n",
        "        results[i, sequence] = 1.  # set specific indices of results[i] to 1s\n",
        "    return results\n",
        "\n",
        "# Our vectorized training data\n",
        "x_train = vectorize_sequences(train_data)\n",
        "# Our vectorized test data\n",
        "x_test = vectorize_sequences(test_data)\n",
        "# Vectorize labels\n",
        "y_train = np.asarray(train_labels).astype('float32')\n",
        "y_test = np.asarray(test_labels).astype('float32')"
      ],
      "metadata": {
        "id": "cENeFEAaU9wk"
      },
      "execution_count": 16,
      "outputs": []
    },
    {
      "cell_type": "markdown",
      "source": [
        "Network architecture\n",
        "\n",
        "I propose the following architecture choice:\n",
        "\n",
        "1. Two intermediate layers with 16 hidden units each, and a third layer which will output the scalar prediction regarding the sentiment of the current review.\n",
        "2. The intermediate layers will use relu as their “activation function”, and the final layer will use a sigmoid activation so as to output a probability (a score between 0 and 1, indicating how likely the sample is to have the target “1”, i.e. how likely the review is to be positive).\n",
        "3. A relu (rectified linear unit) is a function meant to zero-out negative values, while a sigmoid “squashes” arbitrary values into the [0, 1] interval, thus outputting something that can be interpreted as a probability.\n",
        "\n",
        "\n",
        "\n",
        "\n"
      ],
      "metadata": {
        "id": "XpaCSynmU_i2"
      }
    },
    {
      "cell_type": "code",
      "source": [
        "#TODO: Implement the architecture\n",
        "\n",
        "from keras.models import Sequential\n",
        "from keras.layers import Dense\n",
        "\n",
        "model = Sequential()\n",
        "model.add(Dense(units=16, activation='relu', input_shape=(10000,)))\n",
        "model.add(Dense(units=16, activation='relu'))\n",
        "model.add(Dense(units=1, activation='sigmoid'))\n",
        "model.compile(optimizer='rmsprop', loss='binary_crossentropy', metrics=['accuracy'])\n",
        "model.summary()\n",
        "\n"
      ],
      "metadata": {
        "id": "kEEIjZ6XVcMt",
        "colab": {
          "base_uri": "https://localhost:8080/"
        },
        "outputId": "cb861c86-177d-4180-952d-f43479ac7775"
      },
      "execution_count": 18,
      "outputs": [
        {
          "output_type": "stream",
          "name": "stdout",
          "text": [
            "Model: \"sequential_1\"\n",
            "_________________________________________________________________\n",
            " Layer (type)                Output Shape              Param #   \n",
            "=================================================================\n",
            " dense_3 (Dense)             (None, 16)                160016    \n",
            "                                                                 \n",
            " dense_4 (Dense)             (None, 16)                272       \n",
            "                                                                 \n",
            " dense_5 (Dense)             (None, 1)                 17        \n",
            "                                                                 \n",
            "=================================================================\n",
            "Total params: 160305 (626.19 KB)\n",
            "Trainable params: 160305 (626.19 KB)\n",
            "Non-trainable params: 0 (0.00 Byte)\n",
            "_________________________________________________________________\n"
          ]
        }
      ]
    },
    {
      "cell_type": "markdown",
      "source": [
        "**Network training**\n",
        "\n",
        "Since we are facing a binary classification problem and the output of our network is a probability (we end our network with a single-unit layer with a sigmoid activation), is it best to use the binary_crossentropy loss. It isn't the only viable choice: you could use, for instance, mean_squared_error.\n",
        "\n",
        "But crossentropy is usually the best choice when you are dealing with models that output probabilities. Crossentropy is a quantity from the field of Information Theory, that measures the 'distance' between probability distributions, or in our case, between the ground-truth distribution and our predictions.\n",
        "\n",
        "To configure the model please use the following parameters:\n",
        "1. rmsprop optimizer\n",
        "2. binary_crossentropy loss function\n",
        "3. accuracy metric\n"
      ],
      "metadata": {
        "id": "D79XP-pYVjQU"
      }
    },
    {
      "cell_type": "code",
      "source": [
        "#TODO: to juz wyzej"
      ],
      "metadata": {
        "id": "VzxKXDZBVwEE"
      },
      "execution_count": null,
      "outputs": []
    },
    {
      "cell_type": "markdown",
      "source": [
        "**Validation**\n",
        "\n",
        "In order to monitor during training the accuracy of the model on data that it has never seen before, we will create a 'validation set' by setting apart 10,000 samples from the original data (suggested split: 25000 train, 10000 validation, 15000 test):"
      ],
      "metadata": {
        "id": "mtR_fILPVwlU"
      }
    },
    {
      "cell_type": "code",
      "source": [
        "#TODO: please divide the dataset according to the description above\n",
        "\n",
        "x_train = vectorize_sequences(train_data)\n",
        "x_test = vectorize_sequences(test_data)\n",
        "print(\"x_train \", x_train.shape)\n",
        "print(\"x_test \", x_test.shape)\n",
        "y_train = np.asarray(train_labels).astype('float32')\n",
        "y_test = np.asarray(test_labels).astype('float32')\n",
        "print(\"y_train \", y_train.shape)\n",
        "print(\"y_test \", y_test.shape)\n",
        "x_val = x_train[:10000]\n",
        "partial_x_train = x_train[10000:]\n",
        "y_val = y_train[:10000]\n",
        "partial_y_train = y_train[10000:]"
      ],
      "metadata": {
        "id": "uNRieC_iV9sd",
        "colab": {
          "base_uri": "https://localhost:8080/"
        },
        "outputId": "b1c122ad-b211-4a9d-d039-af9ba61ffa93"
      },
      "execution_count": 21,
      "outputs": [
        {
          "output_type": "stream",
          "name": "stdout",
          "text": [
            "x_train  (25000, 10000)\n",
            "x_test  (25000, 10000)\n",
            "y_train  (25000,)\n",
            "y_test  (25000,)\n"
          ]
        }
      ]
    },
    {
      "cell_type": "markdown",
      "source": [
        "Train the model with following parameters:\n",
        "1. x_train, y_train -remained\n",
        "2. epochs - 20\n",
        "3. batch_size - 512\n",
        "4. validation_data=(x_val, y_val))\n"
      ],
      "metadata": {
        "id": "T38P2WH1WAZU"
      }
    },
    {
      "cell_type": "code",
      "source": [
        "#TODO: Train the model\n",
        "#model.compile(optimizer='rmsprop', loss='binary_crossentropy', metrics=['acc'])\n",
        "history = model.fit(partial_x_train, partial_y_train, epochs=20, batch_size=512, validation_data=(x_val, y_val))\n",
        "results = model.evaluate(x_test, y_test)"
      ],
      "metadata": {
        "id": "Ty49SWm5WHSk",
        "colab": {
          "base_uri": "https://localhost:8080/"
        },
        "outputId": "115ddda7-e01a-46a7-c6e5-333feb39dfb0"
      },
      "execution_count": 22,
      "outputs": [
        {
          "output_type": "stream",
          "name": "stdout",
          "text": [
            "Epoch 1/20\n",
            "30/30 [==============================] - 4s 98ms/step - loss: 0.5627 - acc: 0.7678 - val_loss: 0.4473 - val_acc: 0.8456\n",
            "Epoch 2/20\n",
            "30/30 [==============================] - 1s 50ms/step - loss: 0.3668 - acc: 0.8861 - val_loss: 0.3401 - val_acc: 0.8789\n",
            "Epoch 3/20\n",
            "30/30 [==============================] - 1s 50ms/step - loss: 0.2722 - acc: 0.9133 - val_loss: 0.3201 - val_acc: 0.8714\n",
            "Epoch 4/20\n",
            "30/30 [==============================] - 1s 38ms/step - loss: 0.2199 - acc: 0.9279 - val_loss: 0.2870 - val_acc: 0.8854\n",
            "Epoch 5/20\n",
            "30/30 [==============================] - 1s 37ms/step - loss: 0.1855 - acc: 0.9376 - val_loss: 0.2939 - val_acc: 0.8802\n",
            "Epoch 6/20\n",
            "30/30 [==============================] - 1s 41ms/step - loss: 0.1601 - acc: 0.9497 - val_loss: 0.2945 - val_acc: 0.8836\n",
            "Epoch 7/20\n",
            "30/30 [==============================] - 2s 57ms/step - loss: 0.1388 - acc: 0.9560 - val_loss: 0.2856 - val_acc: 0.8837\n",
            "Epoch 8/20\n",
            "30/30 [==============================] - 2s 51ms/step - loss: 0.1193 - acc: 0.9633 - val_loss: 0.2910 - val_acc: 0.8856\n",
            "Epoch 9/20\n",
            "30/30 [==============================] - 1s 48ms/step - loss: 0.1058 - acc: 0.9694 - val_loss: 0.3055 - val_acc: 0.8819\n",
            "Epoch 10/20\n",
            "30/30 [==============================] - 1s 50ms/step - loss: 0.0914 - acc: 0.9749 - val_loss: 0.3246 - val_acc: 0.8824\n",
            "Epoch 11/20\n",
            "30/30 [==============================] - 1s 41ms/step - loss: 0.0791 - acc: 0.9796 - val_loss: 0.3296 - val_acc: 0.8815\n",
            "Epoch 12/20\n",
            "30/30 [==============================] - 1s 39ms/step - loss: 0.0692 - acc: 0.9825 - val_loss: 0.3471 - val_acc: 0.8785\n",
            "Epoch 13/20\n",
            "30/30 [==============================] - 1s 39ms/step - loss: 0.0576 - acc: 0.9871 - val_loss: 0.3741 - val_acc: 0.8738\n",
            "Epoch 14/20\n",
            "30/30 [==============================] - 1s 41ms/step - loss: 0.0525 - acc: 0.9880 - val_loss: 0.3831 - val_acc: 0.8780\n",
            "Epoch 15/20\n",
            "30/30 [==============================] - 1s 42ms/step - loss: 0.0428 - acc: 0.9923 - val_loss: 0.4108 - val_acc: 0.8721\n",
            "Epoch 16/20\n",
            "30/30 [==============================] - 1s 49ms/step - loss: 0.0365 - acc: 0.9935 - val_loss: 0.4307 - val_acc: 0.8749\n",
            "Epoch 17/20\n",
            "30/30 [==============================] - 2s 60ms/step - loss: 0.0322 - acc: 0.9948 - val_loss: 0.4431 - val_acc: 0.8741\n",
            "Epoch 18/20\n",
            "30/30 [==============================] - 1s 44ms/step - loss: 0.0281 - acc: 0.9959 - val_loss: 0.4641 - val_acc: 0.8731\n",
            "Epoch 19/20\n",
            "30/30 [==============================] - 1s 41ms/step - loss: 0.0216 - acc: 0.9981 - val_loss: 0.4954 - val_acc: 0.8691\n",
            "Epoch 20/20\n",
            "30/30 [==============================] - 1s 49ms/step - loss: 0.0195 - acc: 0.9979 - val_loss: 0.5128 - val_acc: 0.8716\n",
            "782/782 [==============================] - 2s 3ms/step - loss: 0.5521 - acc: 0.8606\n"
          ]
        }
      ]
    },
    {
      "cell_type": "markdown",
      "source": [
        "The network should achieve acc: 0.9998 and val_acc: 0.8683.\n",
        "\n",
        "The model.fit() returns a History object. This object has a member history, which is a dictionary containing data about everything that happened during training. Let's take a look at it:"
      ],
      "metadata": {
        "id": "plDghF80WJo0"
      }
    },
    {
      "cell_type": "code",
      "source": [
        "history_dict = history.history\n",
        "history_dict.keys()"
      ],
      "metadata": {
        "id": "Er4u6jhnWNQ0",
        "colab": {
          "base_uri": "https://localhost:8080/"
        },
        "outputId": "526d7140-b176-41bc-f6ac-e2db45aed3a2"
      },
      "execution_count": 23,
      "outputs": [
        {
          "output_type": "execute_result",
          "data": {
            "text/plain": [
              "dict_keys(['loss', 'acc', 'val_loss', 'val_acc'])"
            ]
          },
          "metadata": {},
          "execution_count": 23
        }
      ]
    },
    {
      "cell_type": "markdown",
      "source": [
        "It contains 4 entries: one per metric that was being monitored, during training and during validation. Please use Matplotlib to plot the training and validation loss side by side, as well as the training and validation accuracy."
      ],
      "metadata": {
        "id": "C8P70EzdWO5t"
      }
    },
    {
      "cell_type": "code",
      "source": [
        "#TODO: plot\n",
        "#vloss\n",
        "import matplotlib.pyplot as plt\n",
        "plt.clf()\n",
        "history_dict = history.history\n",
        "loss_values = history_dict['loss']\n",
        "val_loss_values = history_dict['val_loss']\n",
        "epochs = range(1, (len(history_dict['loss']) + 1))\n",
        "plt.plot(epochs, loss_values, 'bo', label='training loss')\n",
        "plt.plot(epochs, val_loss_values, 'b', label='validation loss')\n",
        "plt.title('Training && validation loss')\n",
        "plt.xlabel('Epochs')\n",
        "plt.ylabel('Loss')\n",
        "plt.legend()\n",
        "plt.show()\n",
        "\n",
        "#vacc\n",
        "plt.clf()\n",
        "acc_values = history_dict['acc']\n",
        "val_acc_values = history_dict['val_acc']\n",
        "epochs = range(1, (len(history_dict['acc']) + 1))\n",
        "plt.plot(epochs, acc_values, 'bo', label='Training acc')\n",
        "plt.plot(epochs, val_acc_values, 'b', label='Validation acc')\n",
        "plt.title('Training && validation accuracy')\n",
        "plt.xlabel('Epochs')\n",
        "plt.ylabel('Accuracy')\n",
        "plt.show()"
      ],
      "metadata": {
        "id": "Q1420lgjWQ59",
        "colab": {
          "base_uri": "https://localhost:8080/",
          "height": 927
        },
        "outputId": "1c1c7446-eec0-42fb-c7e1-2bac1d4e9348"
      },
      "execution_count": 34,
      "outputs": [
        {
          "output_type": "display_data",
          "data": {
            "text/plain": [
              "<Figure size 640x480 with 1 Axes>"
            ],
            "image/png": "[encoded data removed]"
          },
          "metadata": {}
        },
        {
          "output_type": "display_data",
          "data": {
            "text/plain": [
              "<Figure size 640x480 with 1 Axes>"
            ],
            "image/png": "[encoded data removed]"
          },
          "metadata": {}
        }
      ]
    },
    {
      "cell_type": "markdown",
      "source": [
        " As you can see, the training loss decreases with every epoch, and the training accuracy increases with every epoch. In precise terms, what you are seeing is “overfitting”: after the second epoch, we are over-optimizing on the training data, and we ended up learning representations that are specific to the training data and do not generalize to data outside of the training set.\n",
        "\n",
        "Please check how that model performs on the test set too!!"
      ],
      "metadata": {
        "id": "SAE0HI4lWW2P"
      }
    },
    {
      "cell_type": "code",
      "source": [
        "#TODO: evaluate the results on the test set\n",
        "model.predict(x_test)"
      ],
      "metadata": {
        "id": "soKuxO8ZWZbl",
        "colab": {
          "base_uri": "https://localhost:8080/"
        },
        "outputId": "61b0e98d-dcf7-450c-c1b7-415adcc027c9"
      },
      "execution_count": 30,
      "outputs": [
        {
          "output_type": "stream",
          "name": "stdout",
          "text": [
            "782/782 [==============================] - 2s 3ms/step\n"
          ]
        },
        {
          "output_type": "execute_result",
          "data": {
            "text/plain": [
              "array([[0.02655961],\n",
              "       [0.9999984 ],\n",
              "       [0.9339044 ],\n",
              "       ...,\n",
              "       [0.00298233],\n",
              "       [0.02366605],\n",
              "       [0.9271367 ]], dtype=float32)"
            ]
          },
          "metadata": {},
          "execution_count": 30
        }
      ]
    }
  ]
}