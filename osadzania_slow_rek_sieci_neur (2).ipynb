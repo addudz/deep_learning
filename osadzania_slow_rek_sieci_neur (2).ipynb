{
  "nbformat": 4,
  "nbformat_minor": 0,
  "metadata": {
    "colab": {
      "provenance": []
    },
    "kernelspec": {
      "name": "python3",
      "display_name": "Python 3"
    },
    "language_info": {
      "name": "python"
    }
  },
  "cells": [
    {
      "cell_type": "code",
      "execution_count": 1,
      "metadata": {
        "id": "t2786rSr4jhn"
      },
      "outputs": [],
      "source": [
        "import numpy as np"
      ]
    },
    {
      "cell_type": "code",
      "source": [
        "# Początkowa forma danych: jeden element na próbkę\n",
        "# (w tym przykładzie próbką jest zdanie, ale może ona być również całym dokumentem)\n",
        "samples = ['The cat sat on the mat.', 'The dog ate my homework.']"
      ],
      "metadata": {
        "id": "-Zgwogzw4s-N"
      },
      "execution_count": 2,
      "outputs": []
    },
    {
      "cell_type": "code",
      "source": [
        "# Zbuduj indeks wszystkich tokenów danych\n",
        "token_index = {}\n",
        "for sample in samples:\n",
        " # Tokenizacja próbek poprzez metodę podziału.\n",
        " # Podczas pracy z prawdziwymi danymi podziału dokonuje się również na znakach interpunkcyjnych i specjalnych\n",
        " for word in sample.split():\n",
        "    if word not in token_index:\n",
        " # Przypisywanie unikatowego indeksu do każdego unikatowego słowa.\n",
        "      token_index[word] = len(token_index) + 1\n",
        " # Zwróć uwagę na to, że indeks 0 nie jest przypisywany do żadnego słowa"
      ],
      "metadata": {
        "id": "kjSwlfwB4tPb"
      },
      "execution_count": 5,
      "outputs": []
    },
    {
      "cell_type": "code",
      "source": [
        "# Wektoryzacja próbek. Bierzemy pod uwagę tylko max_length pierwszych słów każdej próbki.\n",
        "max_length = 10"
      ],
      "metadata": {
        "id": "FobrUt2u4tkU"
      },
      "execution_count": 6,
      "outputs": []
    },
    {
      "cell_type": "code",
      "source": [
        "# Tu przechowujemy wyniki operacji:\n",
        "results = np.zeros((len(samples), max_length, max(token_index.values()) + 1))\n",
        "for i, sample in enumerate(samples):\n",
        "    for j, word in list(enumerate(sample.split()))[:max_length]:\n",
        "        index = token_index.get(word)\n",
        "        results[i, j, index] = 1.\n",
        " # ########################################################################################\n"
      ],
      "metadata": {
        "id": "LTP5UESM4tyW"
      },
      "execution_count": 7,
      "outputs": []
    },
    {
      "cell_type": "code",
      "source": [
        "#KODOWANIE ZNAKOW\n",
        "import string\n",
        "samples = ['The cat sat on the mat.', 'The dog ate my homework.']\n",
        "characters = string.printable # Wszystkie znaki ASCII, które można wyświetlić\n",
        "token_index = dict(zip(characters, range(1, len(characters) + 1)))\n",
        "max_length = 50\n",
        "results = np.zeros((len(samples), max_length, max(token_index.values()) + 1))\n",
        "for i, sample in enumerate(samples):\n",
        "    for j, character in enumerate(sample[:max_length]):\n",
        "        index = token_index.get(character)\n",
        "        results[i, j, index] = 1.\n",
        "# ########################################################################################"
      ],
      "metadata": {
        "id": "5HkHzmOr4uEL"
      },
      "execution_count": 8,
      "outputs": []
    },
    {
      "cell_type": "markdown",
      "source": [
        "Gorąca jedynka przy użyciu narzędzi z pakietu Keras"
      ],
      "metadata": {
        "id": "yWmIQqj951dC"
      }
    },
    {
      "cell_type": "code",
      "source": [
        "from keras.preprocessing.text import Tokenizer\n",
        "samples = ['The cat sat on the mat.', 'The dog ate my homework.']\n",
        "# Tworzy mechanizm tokenizacji skonfigurowany tak,\n",
        "# aby brał pod uwagę tylko 1000 najczęściej występujących słów\n",
        "tokenizer = Tokenizer(num_words=1000)\n",
        "# Buduje indeks słów.\n",
        "tokenizer.fit_on_texts(samples)\n",
        "# Zamienia łańcuchy na listy indeksów (wartości całkowitoliczbowe)\n",
        "sequences = tokenizer.texts_to_sequences(samples)"
      ],
      "metadata": {
        "id": "lxWRa8xo5Auy"
      },
      "execution_count": 9,
      "outputs": []
    },
    {
      "cell_type": "code",
      "source": [
        "# Możliwe jest również uzyskanie bezpośredniej binarnej reprezentacji kodowania metodą gorącej jedynki.\n",
        "#Ten generator tokenów obsługuje także inne tryby wektoryzacji"
      ],
      "metadata": {
        "id": "L2QNq21x6DTE"
      },
      "execution_count": null,
      "outputs": []
    },
    {
      "cell_type": "code",
      "source": [
        "one_hot_results = tokenizer.texts_to_matrix(samples, mode='binary')\n",
        "# Przykład kodu pozwalającego na uzyskanie dostępu do indeksu słów.\n",
        "word_index = tokenizer.word_index\n",
        "print('Znaleziono %s unikatowych tokenów.' % len(word_index))"
      ],
      "metadata": {
        "colab": {
          "base_uri": "https://localhost:8080/"
        },
        "id": "-iUH_-B56FU3",
        "outputId": "0c8d7dd6-b3a0-40f0-f9b4-fc79a4f84006"
      },
      "execution_count": 10,
      "outputs": [
        {
          "output_type": "stream",
          "name": "stdout",
          "text": [
            "Znaleziono 9 unikatowych tokenów.\n"
          ]
        }
      ]
    },
    {
      "cell_type": "code",
      "source": [
        "# sztuczka haszowania z gorącą jedynką (ang. one-hot hashing trick).\n",
        "#HASZOWANIE SŁÓW METODĄ GORACEJ JEDYNKI\n",
        "samples = ['The cat sat on the mat.', 'The dog ate my homework.']\n",
        "# Słowa są zapisywane w postaci wektorów o długości 1000.\n",
        "# Jeżeli przetworzymy przykład, w którym znajduje się około 1000 różnych słów,\n",
        "# to zauważymy wiele konfliktów haszy,\n",
        "# które doprowadzą do pogorszenia dokładności tej metody kodowania.\n",
        "dimensionality = 1000\n",
        "max_length = 10"
      ],
      "metadata": {
        "id": "2UPzWi-U6N-i"
      },
      "execution_count": 11,
      "outputs": []
    },
    {
      "cell_type": "code",
      "source": [
        "results = np.zeros((len(samples), max_length, dimensionality))\n",
        "for i, sample in enumerate(samples):\n",
        "    for j, word in list(enumerate(sample.split()))[:max_length]:\n",
        " # Słowom przypisywane są losowe wartości całkowite indeksu z zakresu od 0 do 1000.\n",
        "\n",
        "        index = abs(hash(word)) % dimensionality\n",
        "        results[i, j, index] = 1"
      ],
      "metadata": {
        "id": "HBXtHDQm695W"
      },
      "execution_count": 12,
      "outputs": []
    },
    {
      "cell_type": "code",
      "source": [
        "#OSADZENIA SŁÓW (ang. word embeddings)- niska liczba wymiarów. Są to gęste wektory zmiennoprzecinkowe.\n",
        "from keras.layers import Embedding\n",
        "# Warstwa Embedding przyjmuje przynajmniej dwa argumenty:\n",
        "# liczbę tokenów (tutaj 1000: 1 + maksymalny indeks słowa)\n",
        "# i liczbę wymiarów osadzeń (tutaj 64).\n",
        "embedding_layer = Embedding(1000, 64)\n",
        "#Warstwę Embedding najlepiej jest rozumieć jako słownik mapujący całkowitoliczbowe indeksy oznaczające określone słowa na gęste wektory"
      ],
      "metadata": {
        "id": "aE-edFcR7G4U"
      },
      "execution_count": 14,
      "outputs": []
    },
    {
      "cell_type": "code",
      "source": [
        "from keras.datasets import imdb\n",
        "from keras import preprocessing\n",
        "# Liczba słów analizowanych w charakterze wag.\n",
        "max_features = 10000\n",
        "# Ucina recenzje, w których występuje ta liczba słów\n",
        "# (słów zaliczanych do zbioru max_features najczęściej występujących słów).\n",
        "maxlen = 20\n",
        "# Ładuje dane w formie list wartości całkowitoliczbowych.\n",
        "(x_train, y_train), (x_test, y_test) = imdb.load_data(num_words=max_features)\n",
        "# Zamieniamy listy liczb całkowitych na dwuwymiarowy tensor\n",
        "# wartości całkowitoliczbowych o kształcie (próbki, maxlen).\n",
        "x_train = preprocessing.sequence.pad_sequences(x_train, maxlen=maxlen)\n",
        "x_test = preprocessing.sequence.pad_sequences(x_test, maxlen=maxlen)"
      ],
      "metadata": {
        "colab": {
          "base_uri": "https://localhost:8080/"
        },
        "id": "JoySJnnE7wIy",
        "outputId": "f2420974-b612-45e2-bfd6-804de88e6859"
      },
      "execution_count": 15,
      "outputs": [
        {
          "output_type": "stream",
          "name": "stdout",
          "text": [
            "Downloading data from https://storage.googleapis.com/tensorflow/tf-keras-datasets/imdb.npz\n",
            "17464789/17464789 [==============================] - 0s 0us/step\n"
          ]
        }
      ]
    },
    {
      "cell_type": "code",
      "source": [
        "from keras.models import Sequential\n",
        "from keras.layers import Flatten, Dense\n",
        "model = Sequential()\n",
        "# Określamy maksymalną długość danych wejściowych warstwy Embedding,\n",
        "# co umożliwi późniejsze spłaszczenie osadzonych danych wejściowych.\n",
        "model.add(Embedding(10000, 8, input_length=maxlen))\n",
        "# Po przetworzeniu przez warstwę osadzania aktywacje mają kształt (próbki, maxlen, 8).\n",
        "# Spłaszczanie trójwymiarowego tensora osadzeń\n",
        "# w celu uzyskania dwuwymiarowego tensora o kształcie (próbki, maxlen * 8).\n",
        "model.add(Flatten())\n",
        "# Dodawanie ostatniej warstwy klasyfikatora.\n",
        "model.add(Dense(1, activation='sigmoid'))\n",
        "model.compile(optimizer='rmsprop', loss='binary_crossentropy', metrics=['acc'])\n",
        "model.summary()\n"
      ],
      "metadata": {
        "colab": {
          "base_uri": "https://localhost:8080/"
        },
        "id": "wjY7oL_w8DnT",
        "outputId": "71f7feba-e0c9-4cc5-c479-e9d3e725c40d"
      },
      "execution_count": 16,
      "outputs": [
        {
          "output_type": "stream",
          "name": "stdout",
          "text": [
            "Model: \"sequential\"\n",
            "_________________________________________________________________\n",
            " Layer (type)                Output Shape              Param #   \n",
            "=================================================================\n",
            " embedding_2 (Embedding)     (None, 20, 8)             80000     \n",
            "                                                                 \n",
            " flatten (Flatten)           (None, 160)               0         \n",
            "                                                                 \n",
            " dense (Dense)               (None, 1)                 161       \n",
            "                                                                 \n",
            "=================================================================\n",
            "Total params: 80161 (313.13 KB)\n",
            "Trainable params: 80161 (313.13 KB)\n",
            "Non-trainable params: 0 (0.00 Byte)\n",
            "_________________________________________________________________\n"
          ]
        }
      ]
    },
    {
      "cell_type": "code",
      "source": [
        "history = model.fit(x_train, y_train,\n",
        "                    epochs=10,\n",
        "                    batch_size=32,\n",
        "                    validation_split=0.2)"
      ],
      "metadata": {
        "colab": {
          "base_uri": "https://localhost:8080/"
        },
        "id": "NQ7epsvb8IO6",
        "outputId": "17bef13a-d290-42a2-d9de-90978c5bd5ee"
      },
      "execution_count": 17,
      "outputs": [
        {
          "output_type": "stream",
          "name": "stdout",
          "text": [
            "Epoch 1/10\n",
            "625/625 [==============================] - 3s 3ms/step - loss: 0.6642 - acc: 0.6335 - val_loss: 0.6086 - val_acc: 0.7060\n",
            "Epoch 2/10\n",
            "625/625 [==============================] - 1s 2ms/step - loss: 0.5346 - acc: 0.7529 - val_loss: 0.5219 - val_acc: 0.7344\n",
            "Epoch 3/10\n",
            "625/625 [==============================] - 2s 3ms/step - loss: 0.4613 - acc: 0.7854 - val_loss: 0.5006 - val_acc: 0.7456\n",
            "Epoch 4/10\n",
            "625/625 [==============================] - 2s 3ms/step - loss: 0.4261 - acc: 0.8059 - val_loss: 0.4934 - val_acc: 0.7584\n",
            "Epoch 5/10\n",
            "625/625 [==============================] - 2s 3ms/step - loss: 0.4028 - acc: 0.8176 - val_loss: 0.4942 - val_acc: 0.7566\n",
            "Epoch 6/10\n",
            "625/625 [==============================] - 1s 2ms/step - loss: 0.3830 - acc: 0.8281 - val_loss: 0.4962 - val_acc: 0.7568\n",
            "Epoch 7/10\n",
            "625/625 [==============================] - 1s 2ms/step - loss: 0.3654 - acc: 0.8406 - val_loss: 0.4998 - val_acc: 0.7606\n",
            "Epoch 8/10\n",
            "625/625 [==============================] - 1s 2ms/step - loss: 0.3483 - acc: 0.8501 - val_loss: 0.5031 - val_acc: 0.7570\n",
            "Epoch 9/10\n",
            "625/625 [==============================] - 1s 2ms/step - loss: 0.3302 - acc: 0.8612 - val_loss: 0.5098 - val_acc: 0.7552\n",
            "Epoch 10/10\n",
            "625/625 [==============================] - 1s 2ms/step - loss: 0.3133 - acc: 0.8690 - val_loss: 0.5165 - val_acc: 0.7532\n"
          ]
        }
      ]
    },
    {
      "cell_type": "code",
      "source": [
        "#O wiele lepszym rozwiązaniem jest dodanie do osadzonej sekwencji rekurencyjnych warstw lub\n",
        "#jednowymiarowych warstw konwolucyjnych — pozwoli to na uczenie się cech biorących pod uwagę\n",
        "#całość sekwencji\n"
      ],
      "metadata": {
        "id": "GwejHLBQ8tRc"
      },
      "execution_count": null,
      "outputs": []
    },
    {
      "cell_type": "code",
      "source": [
        "#REKURENCYJNE SIECI NEURONOWE RNN\n",
        "\n",
        "from keras.models import Sequential\n",
        "from keras.layers import Embedding, SimpleRNN\n",
        "model = Sequential()\n",
        "model.add(Embedding(10000, 32))\n",
        "model.add(SimpleRNN(32))\n",
        "model.summary()"
      ],
      "metadata": {
        "colab": {
          "base_uri": "https://localhost:8080/"
        },
        "id": "_rfTziFl8zBX",
        "outputId": "7e9ca732-48d9-4a7c-e1a4-e09fd7722f9e"
      },
      "execution_count": 18,
      "outputs": [
        {
          "output_type": "stream",
          "name": "stdout",
          "text": [
            "Model: \"sequential_1\"\n",
            "_________________________________________________________________\n",
            " Layer (type)                Output Shape              Param #   \n",
            "=================================================================\n",
            " embedding_3 (Embedding)     (None, None, 32)          320000    \n",
            "                                                                 \n",
            " simple_rnn (SimpleRNN)      (None, 32)                2080      \n",
            "                                                                 \n",
            "=================================================================\n",
            "Total params: 322080 (1.23 MB)\n",
            "Trainable params: 322080 (1.23 MB)\n",
            "Non-trainable params: 0 (0.00 Byte)\n",
            "_________________________________________________________________\n"
          ]
        }
      ]
    },
    {
      "cell_type": "code",
      "source": [
        "model = Sequential()\n",
        "model.add(Embedding(10000, 32))\n",
        "model.add(SimpleRNN(32, return_sequences=True))\n",
        "model.summary()"
      ],
      "metadata": {
        "colab": {
          "base_uri": "https://localhost:8080/"
        },
        "id": "4eaKtD849VXv",
        "outputId": "498282e8-f863-400f-b487-371c25ffce2a"
      },
      "execution_count": 19,
      "outputs": [
        {
          "output_type": "stream",
          "name": "stdout",
          "text": [
            "Model: \"sequential_2\"\n",
            "_________________________________________________________________\n",
            " Layer (type)                Output Shape              Param #   \n",
            "=================================================================\n",
            " embedding_4 (Embedding)     (None, None, 32)          320000    \n",
            "                                                                 \n",
            " simple_rnn_1 (SimpleRNN)    (None, None, 32)          2080      \n",
            "                                                                 \n",
            "=================================================================\n",
            "Total params: 322080 (1.23 MB)\n",
            "Trainable params: 322080 (1.23 MB)\n",
            "Non-trainable params: 0 (0.00 Byte)\n",
            "_________________________________________________________________\n"
          ]
        }
      ]
    },
    {
      "cell_type": "code",
      "source": [
        "model = Sequential()\n",
        "model.add(Embedding(10000, 32))\n",
        "model.add(SimpleRNN(32, return_sequences=True))\n",
        "model.add(SimpleRNN(32, return_sequences=True))\n",
        "model.add(SimpleRNN(32, return_sequences=True))\n",
        "model.add(SimpleRNN(32)) # Ostatnia warstwa zwraca tylko ostatni obiekt wyjściowy\n",
        "model.summary()"
      ],
      "metadata": {
        "colab": {
          "base_uri": "https://localhost:8080/"
        },
        "id": "HXUvmVjK9YaV",
        "outputId": "71a3cbbb-0309-4d8e-d918-7a5e2158b12c"
      },
      "execution_count": 20,
      "outputs": [
        {
          "output_type": "stream",
          "name": "stdout",
          "text": [
            "Model: \"sequential_3\"\n",
            "_________________________________________________________________\n",
            " Layer (type)                Output Shape              Param #   \n",
            "=================================================================\n",
            " embedding_5 (Embedding)     (None, None, 32)          320000    \n",
            "                                                                 \n",
            " simple_rnn_2 (SimpleRNN)    (None, None, 32)          2080      \n",
            "                                                                 \n",
            " simple_rnn_3 (SimpleRNN)    (None, None, 32)          2080      \n",
            "                                                                 \n",
            " simple_rnn_4 (SimpleRNN)    (None, None, 32)          2080      \n",
            "                                                                 \n",
            " simple_rnn_5 (SimpleRNN)    (None, 32)                2080      \n",
            "                                                                 \n",
            "=================================================================\n",
            "Total params: 328320 (1.25 MB)\n",
            "Trainable params: 328320 (1.25 MB)\n",
            "Non-trainable params: 0 (0.00 Byte)\n",
            "_________________________________________________________________\n"
          ]
        }
      ]
    },
    {
      "cell_type": "code",
      "source": [
        "#WSTEPNA OBROKA DANYCH\n",
        "from keras.datasets import imdb\n",
        "from keras.preprocessing import sequence\n",
        "max_features = 10000 # Liczba słów traktowanych jako cechy.\n",
        "maxlen = 500 # Ucina recenzje po tej liczbie słów należących do zbioru max_features słów najczęściej występujących w zbiorze.\n",
        "batch_size = 32\n",
        "print('Ładowanie danych...')\n",
        "(input_train, y_train), (input_test, y_test) = imdb.load_data(num_words=max_features)\n",
        "print(len(input_train), 'sekwencje treningowe')\n",
        "print(len(input_test), 'sekwencje testowe')\n",
        "print('Sekwencje (próbki x czas)')\n",
        "input_train = sequence.pad_sequences(input_train, maxlen=maxlen)\n",
        "input_test = sequence.pad_sequences(input_test, maxlen=maxlen)\n",
        "print('Kształt obiektu input_train:', input_train.shape)\n",
        "print('Kształt obiektu input_test:', input_test.shape)"
      ],
      "metadata": {
        "colab": {
          "base_uri": "https://localhost:8080/"
        },
        "id": "-r3CCXjP9c0p",
        "outputId": "e1175301-c24b-4bb5-a6c3-3a1664bb2c53"
      },
      "execution_count": 22,
      "outputs": [
        {
          "output_type": "stream",
          "name": "stdout",
          "text": [
            "Ładowanie danych...\n",
            "25000 sekwencje treningowe\n",
            "25000 sekwencje testowe\n",
            "Sekwencje (próbki x czas)\n",
            "Kształt obiektu input_train: (25000, 500)\n",
            "Kształt obiektu input_test: (25000, 500)\n"
          ]
        }
      ]
    },
    {
      "cell_type": "code",
      "source": [
        "#ARCHITEKTURA RNN\n",
        "from tensorflow.keras.models import Sequential\n",
        "from tensorflow.keras.layers import Embedding, SimpleRNN, Dense\n",
        "\n",
        "# parametry\n",
        "max_features = 10000\n",
        "maxlen = 500\n",
        "batch_size = 32\n",
        "\n",
        "# przygotowanie modelu\n",
        "model = Sequential()\n",
        "model.add(Embedding(max_features, 32))\n",
        "model.add(SimpleRNN(32))\n",
        "model.add(Dense(1, activation='sigmoid'))\n",
        "\n",
        "# kompilacja\n",
        "model.compile(optimizer='rmsprop',\n",
        "              loss='binary_crossentropy',\n",
        "              metrics=['accuracy'])\n",
        "\n",
        "# trenowanie modelu na wstępnie obrobionych danych\n",
        "history = model.fit(input_train, y_train,\n",
        "                    epochs=10,\n",
        "                    batch_size=batch_size,\n",
        "                    validation_split=0.2)\n",
        "\n",
        "# wykresy dokładności i straty\n",
        "acc = history.history['accuracy']\n",
        "val_acc = history.history['val_accuracy']\n",
        "loss = history.history['loss']\n",
        "val_loss = history.history['val_loss']\n",
        "\n",
        "epochs = range(1, len(acc) + 1)\n",
        "\n",
        "import matplotlib.pyplot as plt\n",
        "\n",
        "plt.figure(figsize=(12, 4))\n",
        "plt.subplot(1, 2, 1)\n",
        "plt.plot(epochs, acc, 'bo', label='Dokładność trenowania')\n",
        "plt.plot(epochs, val_acc, 'b', label='Dokładność walidacji')\n",
        "plt.title('Dokładność trenowania i walidacji')\n",
        "plt.xlabel('Epoki')\n",
        "plt.ylabel('Dokładność')\n",
        "plt.legend()\n",
        "\n",
        "plt.subplot(1, 2, 2)\n",
        "plt.plot(epochs, loss, 'bo', label='Strata trenowania')\n",
        "plt.plot(epochs, val_loss, 'b', label='Strata walidacji')\n",
        "plt.title('Strata trenowania i walidacji')\n",
        "plt.xlabel('Epoki')\n",
        "plt.ylabel('Strata')\n",
        "plt.legend()\n",
        "\n",
        "plt.show()"
      ],
      "metadata": {
        "colab": {
          "base_uri": "https://localhost:8080/",
          "height": 758
        },
        "id": "6rwX0d-W90Ca",
        "outputId": "ec90676e-afdb-410b-dcdf-d3325fde5833"
      },
      "execution_count": 24,
      "outputs": [
        {
          "output_type": "stream",
          "name": "stdout",
          "text": [
            "Epoch 1/10\n",
            "625/625 [==============================] - 80s 124ms/step - loss: 0.5084 - accuracy: 0.7523 - val_loss: 0.3910 - val_accuracy: 0.8386\n",
            "Epoch 2/10\n",
            "625/625 [==============================] - 76s 122ms/step - loss: 0.3401 - accuracy: 0.8605 - val_loss: 0.3487 - val_accuracy: 0.8484\n",
            "Epoch 3/10\n",
            "625/625 [==============================] - 75s 120ms/step - loss: 0.3040 - accuracy: 0.8794 - val_loss: 0.3711 - val_accuracy: 0.8500\n",
            "Epoch 4/10\n",
            "625/625 [==============================] - 79s 127ms/step - loss: 0.2496 - accuracy: 0.9036 - val_loss: 0.3567 - val_accuracy: 0.8690\n",
            "Epoch 5/10\n",
            "625/625 [==============================] - 75s 119ms/step - loss: 0.2351 - accuracy: 0.9103 - val_loss: 0.3507 - val_accuracy: 0.8486\n",
            "Epoch 6/10\n",
            "625/625 [==============================] - 76s 122ms/step - loss: 0.2016 - accuracy: 0.9244 - val_loss: 0.3751 - val_accuracy: 0.8522\n",
            "Epoch 7/10\n",
            "625/625 [==============================] - 76s 121ms/step - loss: 0.1808 - accuracy: 0.9322 - val_loss: 0.3735 - val_accuracy: 0.8548\n",
            "Epoch 8/10\n",
            "625/625 [==============================] - 76s 121ms/step - loss: 0.1644 - accuracy: 0.9396 - val_loss: 0.3984 - val_accuracy: 0.8508\n",
            "Epoch 9/10\n",
            "625/625 [==============================] - 77s 123ms/step - loss: 0.1454 - accuracy: 0.9477 - val_loss: 0.3757 - val_accuracy: 0.8646\n",
            "Epoch 10/10\n",
            "625/625 [==============================] - 74s 119ms/step - loss: 0.1176 - accuracy: 0.9592 - val_loss: 0.4541 - val_accuracy: 0.8590\n"
          ]
        },
        {
          "output_type": "display_data",
          "data": {
            "text/plain": [
              "<Figure size 1200x400 with 2 Axes>"
            ],
            "image/png": "[encoded data removed]"
          },
          "metadata": {}
        }
      ]
    },
    {
      "cell_type": "markdown",
      "source": [
        "Z wykresu można odczytać, że dokładność walidacji miała swój szczyt w czwartej epoce, natomiast później jej wartość była nieznacznie większa od tej z samego początku. Być może należałoby zwiększyć ilość epok, żeby zaobserwować pewną zależność. Dokładność trenowania natomiast stale wzrastała, osiągając końcowo wartość bliską 96%.\n",
        "W przypadku straty walidacji można dostrzec, że tak jak na początku z wartości około 40% zdecydowanie zmalała do wartości 35% (do drugiej epoki), tak po każdej kolejnej, widoczne są ciągłe wahania- wzrosty i spadki. W epoce dziewiątej znowu dostrzegalna jest mniejsza wartośc, ale zaraz po niej- znowu pojawia sie nagły wzrost. Być może również po zrealizowaniu większej ilości epok, można by dostrzec, że po np. 8 epokach następuje wzrost, a podczas tego okresu pomiędzy, zachodzą jedynie niewielkie wahania.\n",
        "Strata trenowania natomiast nie jest juz tak problematyczna do interpretacji. Widać, że wraz z każdą kolejną epoką osiąga ona coraz mniejszą wartość."
      ],
      "metadata": {
        "id": "Dj6TxbUIFvJS"
      }
    }
  ]
}