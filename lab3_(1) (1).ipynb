{
  "nbformat": 4,
  "nbformat_minor": 0,
  "metadata": {
    "colab": {
      "provenance": []
    },
    "kernelspec": {
      "name": "python3",
      "display_name": "Python 3"
    },
    "language_info": {
      "name": "python"
    }
  },
  "cells": [
    {
      "cell_type": "markdown",
      "source": [
        "15.03.2024\n",
        "## Głębokie uczenie\n",
        "\n",
        "# 1. Problem klasyfikacji wieloklasowej z wykorzystaniem Kerasa\n"
      ],
      "metadata": {
        "id": "UtTlA1fCMpup"
      }
    },
    {
      "cell_type": "markdown",
      "source": [
        "# Multi-class classification problem\n",
        "\n",
        "In the previous exercise, you have classified vector inputs into two mutually exclusive classes using a densely-connected neural network. But what happens when you have more than two classes?\n",
        "\n",
        "Now, you will build a network to classify Reuters newswires into 46 different mutually-exclusive topics. Since we have many classes, this problem is an instance of “multi-class classification”, and since each data point should be classified into only one category, the problem is more specifically an instance of “single-label, the multi-class classification”. If each data point could have belonged to multiple categories (in our case, topics) then we would be facing a “multi-label, multi-class classification” problem.\n",
        "\n",
        "**The Reuters dataset**\n",
        "\n",
        "The Reuters dataset is a set of short newswires and their topics, published by Reuters in 1986. It's a very simple, widely used toy dataset for text classification. There are 46 different topics; some topics are more represented than others, but each topic has at least 10 examples in the training set. Like IMDB and MNIST, the Reuters dataset comes packaged as part of Keras.\n",
        "\n"
      ],
      "metadata": {
        "id": "oVZugmJ3WaGd"
      }
    },
    {
      "cell_type": "code",
      "source": [
        "from keras.datasets import reuters\n",
        "\n",
        "(train_data, train_labels), (test_data, test_labels) = reuters.load_data(num_words=10000)"
      ],
      "metadata": {
        "id": "tw3emlxJXsQV"
      },
      "execution_count": 3,
      "outputs": []
    },
    {
      "cell_type": "code",
      "source": [
        "print(train_data[0])"
      ],
      "metadata": {
        "colab": {
          "base_uri": "https://localhost:8080/"
        },
        "id": "q4LxRb0hvfiE",
        "outputId": "ab92eb80-bfb8-4536-a513-6cb3ffcfce60"
      },
      "execution_count": 4,
      "outputs": [
        {
          "output_type": "stream",
          "name": "stdout",
          "text": [
            "[1, 2, 2, 8, 43, 10, 447, 5, 25, 207, 270, 5, 3095, 111, 16, 369, 186, 90, 67, 7, 89, 5, 19, 102, 6, 19, 124, 15, 90, 67, 84, 22, 482, 26, 7, 48, 4, 49, 8, 864, 39, 209, 154, 6, 151, 6, 83, 11, 15, 22, 155, 11, 15, 7, 48, 9, 4579, 1005, 504, 6, 258, 6, 272, 11, 15, 22, 134, 44, 11, 15, 16, 8, 197, 1245, 90, 67, 52, 29, 209, 30, 32, 132, 6, 109, 15, 17, 12]\n"
          ]
        }
      ]
    },
    {
      "cell_type": "code",
      "source": [
        "train_labels[4]"
      ],
      "metadata": {
        "colab": {
          "base_uri": "https://localhost:8080/"
        },
        "id": "1C3qxZpUvs58",
        "outputId": "f138c045-b02a-4d62-b060-34cb28ae3cf5"
      },
      "execution_count": 5,
      "outputs": [
        {
          "output_type": "execute_result",
          "data": {
            "text/plain": [
              "4"
            ]
          },
          "metadata": {},
          "execution_count": 5
        }
      ]
    },
    {
      "cell_type": "code",
      "source": [
        "test_labels[0]"
      ],
      "metadata": {
        "colab": {
          "base_uri": "https://localhost:8080/"
        },
        "id": "wQleOlPwvxbD",
        "outputId": "4b854731-3b41-44de-f785-bb65890b70bf"
      },
      "execution_count": 6,
      "outputs": [
        {
          "output_type": "execute_result",
          "data": {
            "text/plain": [
              "3"
            ]
          },
          "metadata": {},
          "execution_count": 6
        }
      ]
    },
    {
      "cell_type": "code",
      "source": [
        "len(test_labels)"
      ],
      "metadata": {
        "colab": {
          "base_uri": "https://localhost:8080/"
        },
        "id": "QZ2tj7-0xnYL",
        "outputId": "6c760424-a4c7-4ff6-8564-28010e832cfe"
      },
      "execution_count": 7,
      "outputs": [
        {
          "output_type": "execute_result",
          "data": {
            "text/plain": [
              "2246"
            ]
          },
          "metadata": {},
          "execution_count": 7
        }
      ]
    },
    {
      "cell_type": "markdown",
      "source": [
        "**Preparing the data**\n",
        "\n",
        "Please vectorize the data with the exact same code as in our previous ex."
      ],
      "metadata": {
        "id": "UcUR-B96XyD8"
      }
    },
    {
      "cell_type": "code",
      "source": [
        "# TO DO: Vectorize the data as before\n",
        "import numpy as np\n",
        "def vectorize_sequences(sequences, dimension=10000):\n",
        "    results = np.zeros((len(sequences),dimension))\n",
        "    for i,sequence in enumerate(sequences):\n",
        "        results[i,sequence] = 1\n",
        "    return results\n",
        "x_train = vectorize_sequences(train_data)\n",
        "x_test = vectorize_sequences(test_data)"
      ],
      "metadata": {
        "id": "cLD6EWFlX2qT"
      },
      "execution_count": 8,
      "outputs": []
    },
    {
      "cell_type": "code",
      "source": [
        "print(x_train)\n",
        "print(x_test)"
      ],
      "metadata": {
        "colab": {
          "base_uri": "https://localhost:8080/"
        },
        "id": "fw6Va8RixrrD",
        "outputId": "a54a8f50-d07f-4733-af2a-f27c0924f06c"
      },
      "execution_count": 9,
      "outputs": [
        {
          "output_type": "stream",
          "name": "stdout",
          "text": [
            "[[0. 1. 1. ... 0. 0. 0.]\n",
            " [0. 1. 1. ... 0. 0. 0.]\n",
            " [0. 1. 1. ... 0. 0. 0.]\n",
            " ...\n",
            " [0. 1. 1. ... 0. 0. 0.]\n",
            " [0. 1. 1. ... 0. 0. 0.]\n",
            " [0. 1. 1. ... 0. 0. 0.]]\n",
            "[[0. 1. 1. ... 0. 0. 0.]\n",
            " [0. 1. 1. ... 0. 0. 0.]\n",
            " [0. 1. 1. ... 0. 0. 0.]\n",
            " ...\n",
            " [0. 1. 0. ... 0. 0. 0.]\n",
            " [0. 1. 1. ... 0. 0. 0.]\n",
            " [0. 1. 1. ... 0. 0. 0.]]\n"
          ]
        }
      ]
    },
    {
      "cell_type": "markdown",
      "source": [
        "Then vectorize the labels using “one-hot” encoding. One-hot encoding is a widely used format for categorical data, also called “categorical encoding”. In our case, one-hot encoding of our labels consists in embedding each label as an all-zero vector (dimension=46) with a 1 in the place of the label index. There is a built-in way to do this in Keras:"
      ],
      "metadata": {
        "id": "Z_LrGwkQX3LO"
      }
    },
    {
      "cell_type": "code",
      "source": [
        "# TO DO: Convert labels to categorical format\n",
        "import numpy as np\n",
        "\n",
        "def one_hot_encode(labels, dimension=46):\n",
        "    results = np.zeros((len(labels), dimension))\n",
        "    for i,label in enumerate(labels):\n",
        "        results[i,label] = 1\n",
        "    return results\n",
        "\n",
        "from keras.utils import to_categorical\n",
        "one_hot_train_labels = to_categorical(train_labels)\n",
        "one_hot_test_labels = to_categorical(test_labels)"
      ],
      "metadata": {
        "id": "MTQTYsJzX5hD"
      },
      "execution_count": 10,
      "outputs": []
    },
    {
      "cell_type": "code",
      "source": [
        "one_hot_train_labels"
      ],
      "metadata": {
        "colab": {
          "base_uri": "https://localhost:8080/"
        },
        "id": "W0DBfM5Lyavr",
        "outputId": "0c1cda79-7f25-49c5-9029-dd7fbf57f27c"
      },
      "execution_count": 11,
      "outputs": [
        {
          "output_type": "execute_result",
          "data": {
            "text/plain": [
              "array([[0., 0., 0., ..., 0., 0., 0.],\n",
              "       [0., 0., 0., ..., 0., 0., 0.],\n",
              "       [0., 0., 0., ..., 0., 0., 0.],\n",
              "       ...,\n",
              "       [0., 0., 0., ..., 0., 0., 0.],\n",
              "       [0., 0., 0., ..., 0., 0., 0.],\n",
              "       [0., 0., 0., ..., 0., 0., 0.]], dtype=float32)"
            ]
          },
          "metadata": {},
          "execution_count": 11
        }
      ]
    },
    {
      "cell_type": "code",
      "source": [
        "one_hot_test_labels"
      ],
      "metadata": {
        "colab": {
          "base_uri": "https://localhost:8080/"
        },
        "id": "wj7brzVCyfrq",
        "outputId": "9921ee9f-c9e4-4685-95fe-68c04ee755fc"
      },
      "execution_count": 12,
      "outputs": [
        {
          "output_type": "execute_result",
          "data": {
            "text/plain": [
              "array([[0., 0., 0., ..., 0., 0., 0.],\n",
              "       [0., 0., 0., ..., 0., 0., 0.],\n",
              "       [0., 1., 0., ..., 0., 0., 0.],\n",
              "       ...,\n",
              "       [0., 0., 0., ..., 0., 0., 0.],\n",
              "       [0., 0., 0., ..., 0., 0., 0.],\n",
              "       [0., 0., 0., ..., 0., 0., 0.]], dtype=float32)"
            ]
          },
          "metadata": {},
          "execution_count": 12
        }
      ]
    },
    {
      "cell_type": "code",
      "source": [
        "one_hot_train_labels.shape"
      ],
      "metadata": {
        "colab": {
          "base_uri": "https://localhost:8080/"
        },
        "id": "VyegJrrxyl1y",
        "outputId": "23095e86-2231-4a82-d93d-9e7a15bbe183"
      },
      "execution_count": 13,
      "outputs": [
        {
          "output_type": "execute_result",
          "data": {
            "text/plain": [
              "(8982, 46)"
            ]
          },
          "metadata": {},
          "execution_count": 13
        }
      ]
    },
    {
      "cell_type": "markdown",
      "source": [
        "Network architecture\n",
        "\n",
        "In this example we have a new constraint: the number of output classes has gone from 2 to 46, i.e. the dimensionality of the output space is much larger. In our previous example, we were using 16-dimensional intermediate layers, but a 16-dimensional space may be too limited to learn to separate 46 different classes: such small layers may act as information bottlenecks, permanently dropping relevant information. In this exercise please use 64 units to build the DNN.\n",
        "\n",
        "Network architecture:\n",
        "\n",
        "1. two intermediate layers with 64 hidden units each, and an activation function relu\n",
        "2. third Dense layer of size 46 which will end the network. This means that for each input sample, our network will output a 46-dimensional vector.\n",
        "3. The last layer uses a softmax activation. It means that the network will output a probability distribution over the 46 different output classes, i.e. for every input sample, the network will produce a 46-dimensional output vector where output[i] is the probability that the sample belongs to class i. The 46 scores will sum to 1.\n"
      ],
      "metadata": {
        "id": "t0lIKxvOX8lG"
      }
    },
    {
      "cell_type": "code",
      "source": [
        "#TODO: Implement the architecture\n",
        "from keras import models\n",
        "from keras import layers\n",
        "model = models.Sequential()\n",
        "model.add(layers.Dense(64, activation='relu', input_shape=(10000,)))\n",
        "model.add(layers.Dense(64, activation='relu'))\n",
        "model.add(layers.Dense(46, activation='softmax'))\n",
        "\n"
      ],
      "metadata": {
        "id": "18vLtXU7YFjL"
      },
      "execution_count": 14,
      "outputs": []
    },
    {
      "cell_type": "markdown",
      "source": [
        "Network training\n",
        "\n",
        "Since we are facing a multi-class classification problem the best loss function to use in this case is categorical_crossentropy. It measures the distance between two probability distributions: in our case, between the probability distribution output by our network, and the true distribution of the labels. By minimizing the distance between these two distributions, we train our network to output something as close as possible to the true labels.\n",
        "\n",
        "Parameters:\n",
        "1. rmsprop optimizer\n",
        "2. categorical_crossentropy loss function\n",
        "3. accuracy metric\n"
      ],
      "metadata": {
        "id": "ffO40uoZYHoz"
      }
    },
    {
      "cell_type": "code",
      "source": [
        "#TODO: Compile the model\n",
        "model.compile(optimizer='rmsprop',loss='categorical_crossentropy',metrics=['accuracy'])"
      ],
      "metadata": {
        "id": "p6n08noTYOSb"
      },
      "execution_count": 15,
      "outputs": []
    },
    {
      "cell_type": "markdown",
      "source": [
        "**Validation**\n",
        "\n",
        "Like in the previous ex. divide the training dataset into a 'validation set' by setting apart 20% samples.\n",
        "\n",
        "For our example parameters (epochs = 20 and batch_size = 512) the network should achieve acc: 0.95 and val_acc: 0.80.\n",
        "\n",
        "Display its loss and accuracy curves on a plot."
      ],
      "metadata": {
        "id": "harBYdfAYO4z"
      }
    },
    {
      "cell_type": "code",
      "source": [
        "#TODO: Divide the model into train and validation dataset\n",
        "import numpy as np\n",
        "from sklearn.model_selection import train_test_split\n",
        "\n",
        "x_train, x_val, one_hot_train_labels, one_hot_val_labels = train_test_split(x_train, one_hot_train_labels, test_size=0.2, random_state=42)\n",
        "\n",
        "#TODO: model\n",
        "from keras import models\n",
        "from keras import layers\n",
        "\n",
        "model = models.Sequential()\n",
        "model.add(layers.Dense(64, activation='relu', input_shape=(10000,)))\n",
        "model.add(layers.Dense(64, activation='relu'))\n",
        "model.add(layers.Dense(46, activation='softmax'))\n",
        "\n",
        "model.compile(optimizer='rmsprop', loss='categorical_crossentropy', metrics=['accuracy'])\n",
        "\n",
        "# TODO: train the model\n",
        "history = model.fit(x_train, one_hot_train_labels, epochs=20, batch_size=512, validation_data=(x_val, one_hot_val_labels))\n"
      ],
      "metadata": {
        "id": "DlfSRc5-YXGM",
        "colab": {
          "base_uri": "https://localhost:8080/"
        },
        "outputId": "4d856434-44eb-4efe-a02e-86a754cbf4b2"
      },
      "execution_count": 16,
      "outputs": [
        {
          "output_type": "stream",
          "name": "stdout",
          "text": [
            "Epoch 1/20\n",
            "15/15 [==============================] - 1s 43ms/step - loss: 2.6818 - accuracy: 0.4951 - val_loss: 1.8415 - val_accuracy: 0.6138\n",
            "Epoch 2/20\n",
            "15/15 [==============================] - 0s 29ms/step - loss: 1.5828 - accuracy: 0.6669 - val_loss: 1.4558 - val_accuracy: 0.6945\n",
            "Epoch 3/20\n",
            "15/15 [==============================] - 0s 28ms/step - loss: 1.2423 - accuracy: 0.7279 - val_loss: 1.2865 - val_accuracy: 0.7095\n",
            "Epoch 4/20\n",
            "15/15 [==============================] - 0s 27ms/step - loss: 1.0375 - accuracy: 0.7751 - val_loss: 1.1779 - val_accuracy: 0.7295\n",
            "Epoch 5/20\n",
            "15/15 [==============================] - 0s 28ms/step - loss: 0.8758 - accuracy: 0.8029 - val_loss: 1.1314 - val_accuracy: 0.7329\n",
            "Epoch 6/20\n",
            "15/15 [==============================] - 1s 38ms/step - loss: 0.7433 - accuracy: 0.8316 - val_loss: 1.0558 - val_accuracy: 0.7652\n",
            "Epoch 7/20\n",
            "15/15 [==============================] - 1s 49ms/step - loss: 0.6299 - accuracy: 0.8608 - val_loss: 0.9898 - val_accuracy: 0.7735\n",
            "Epoch 8/20\n",
            "15/15 [==============================] - 1s 50ms/step - loss: 0.5358 - accuracy: 0.8821 - val_loss: 0.9969 - val_accuracy: 0.7607\n",
            "Epoch 9/20\n",
            "15/15 [==============================] - 1s 63ms/step - loss: 0.4577 - accuracy: 0.9017 - val_loss: 0.9832 - val_accuracy: 0.7674\n",
            "Epoch 10/20\n",
            "15/15 [==============================] - 1s 41ms/step - loss: 0.3958 - accuracy: 0.9183 - val_loss: 0.9045 - val_accuracy: 0.8041\n",
            "Epoch 11/20\n",
            "15/15 [==============================] - 0s 28ms/step - loss: 0.3401 - accuracy: 0.9332 - val_loss: 0.9040 - val_accuracy: 0.8058\n",
            "Epoch 12/20\n",
            "15/15 [==============================] - 0s 26ms/step - loss: 0.2941 - accuracy: 0.9374 - val_loss: 1.0914 - val_accuracy: 0.7657\n",
            "Epoch 13/20\n",
            "15/15 [==============================] - 0s 27ms/step - loss: 0.2642 - accuracy: 0.9436 - val_loss: 0.8931 - val_accuracy: 0.8097\n",
            "Epoch 14/20\n",
            "15/15 [==============================] - 1s 41ms/step - loss: 0.2292 - accuracy: 0.9506 - val_loss: 0.9051 - val_accuracy: 0.8158\n",
            "Epoch 15/20\n",
            "15/15 [==============================] - 1s 41ms/step - loss: 0.2062 - accuracy: 0.9510 - val_loss: 0.8805 - val_accuracy: 0.8230\n",
            "Epoch 16/20\n",
            "15/15 [==============================] - 1s 33ms/step - loss: 0.1881 - accuracy: 0.9552 - val_loss: 0.8729 - val_accuracy: 0.8214\n",
            "Epoch 17/20\n",
            "15/15 [==============================] - 0s 28ms/step - loss: 0.1660 - accuracy: 0.9562 - val_loss: 0.8683 - val_accuracy: 0.8214\n",
            "Epoch 18/20\n",
            "15/15 [==============================] - 0s 26ms/step - loss: 0.1565 - accuracy: 0.9588 - val_loss: 0.9745 - val_accuracy: 0.7974\n",
            "Epoch 19/20\n",
            "15/15 [==============================] - 0s 27ms/step - loss: 0.1530 - accuracy: 0.9584 - val_loss: 1.0061 - val_accuracy: 0.8052\n",
            "Epoch 20/20\n",
            "15/15 [==============================] - 0s 27ms/step - loss: 0.1430 - accuracy: 0.9582 - val_loss: 0.9195 - val_accuracy: 0.8219\n"
          ]
        }
      ]
    },
    {
      "cell_type": "code",
      "source": [
        "#TODO plot the results 1\n",
        "import matplotlib.pyplot as plt\n",
        "# krzywa straty\n",
        "loss = history.history['loss']\n",
        "val_loss = history.history['val_loss']\n",
        "epochs = range(1, len(loss) + 1)\n",
        "\n",
        "plt.plot(epochs, loss, 'bo', label='Strata treningowa')\n",
        "plt.plot(epochs, val_loss, 'b', label='Strata walidacyjna')\n",
        "plt.title('Krzywa straty')\n",
        "plt.xlabel('Epoki')\n",
        "plt.ylabel('Strata')\n",
        "plt.legend()\n",
        "\n",
        "plt.show()"
      ],
      "metadata": {
        "colab": {
          "base_uri": "https://localhost:8080/",
          "height": 472
        },
        "id": "yZguQQAL0iwq",
        "outputId": "b9816100-91d4-434d-e9b2-749131ed1bff"
      },
      "execution_count": 17,
      "outputs": [
        {
          "output_type": "display_data",
          "data": {
            "text/plain": [
              "<Figure size 640x480 with 1 Axes>"
            ],
            "image/png": "[encoded data removed]"
          },
          "metadata": {}
        }
      ]
    },
    {
      "cell_type": "code",
      "source": [
        "#TODO plot the results 2\n",
        "# krzywa dokładności\n",
        "plt.clf()   # Wyczyszczenie poprzedniego wykresu\n",
        "\n",
        "acc = history.history['accuracy']\n",
        "val_acc = history.history['val_accuracy']\n",
        "\n",
        "plt.plot(epochs, acc, 'bo', label='Dokładność treningowa')\n",
        "plt.plot(epochs, val_acc, 'b', label='Dokładność walidacyjna')\n",
        "plt.title('Krzywa dokładności')\n",
        "plt.xlabel('Epoki')\n",
        "plt.ylabel('Dokładność')\n",
        "plt.legend()\n",
        "\n",
        "plt.show()"
      ],
      "metadata": {
        "colab": {
          "base_uri": "https://localhost:8080/",
          "height": 472
        },
        "id": "3nvCoR_s8Wg_",
        "outputId": "172805f0-edce-4a4f-c32e-170749049a16"
      },
      "execution_count": 18,
      "outputs": [
        {
          "output_type": "display_data",
          "data": {
            "text/plain": [
              "<Figure size 640x480 with 1 Axes>"
            ],
            "image/png": "[encoded data removed]"
          },
          "metadata": {}
        }
      ]
    },
    {
      "cell_type": "markdown",
      "source": [
        "**Task 1**\n",
        "Po 8-ej epoce w krzywej dokładności zarówno dokładność treningowa jak i walidacyjna plasuje się później na dość stablinym poziomie, osiągając wartości dokładności takie, co już występiły wcześniej.\n",
        "W przypadku krzywej straty, po 8-ej epoce strata walidacyjna również utrzymuje się na dość stabilnym poziomie, osiągając wartości, które występiły już we wcześniejszych fazach. Natomiast strata treningowa po 8-ej epoce osiąga stale mniejsze wartosci straty, na poziomie poniżej 0,5."
      ],
      "metadata": {
        "id": "Iejy1mXo-RI2"
      }
    },
    {
      "cell_type": "markdown",
      "source": [
        "**Task 1:** Analyse the plots. What happens after the 8-th epoch? Train a new network for only 8 epochs. What can you say about the outcome ?\n",
        "\n",
        "**Task 2:** Is a large intermediate layer necessary? Tain a network with only 4-dimensional intermediate layer.\n",
        "\n",
        "**Task 3:** Experiment with different parameters and functions you learned in a lecture last week. You can change activation functions, optimizer or the number of neurons and layers. Train the network three times, with three different sets of parameters and discuss the results.\n",
        "\n",
        "\n",
        "\n",
        "\n",
        "**Saving trained model**\n",
        "Sometimes there is a need to save your model and returning to it later. You can save an entire model to a single file. It will include:\n",
        "\n",
        "\n",
        "*   the model's architecture/config,\n",
        "*   the model's weight values (which were learned during training),\n",
        "*   the model's compilation information (if compile()) was called,\n",
        "*   the optimizer and its state, if any (this enables you to restart training where you left).\n",
        "\n",
        "A model can be saved in default TensorFlow format or in specific to Keras h5 format:"
      ],
      "metadata": {
        "id": "tM4gTHibYXzs"
      }
    },
    {
      "cell_type": "code",
      "source": [
        "import keras"
      ],
      "metadata": {
        "id": "Lgw5X0_J1p4h"
      },
      "execution_count": 20,
      "outputs": []
    },
    {
      "cell_type": "code",
      "source": [
        "#Saving a model into a .h5 file\n",
        "model.save('my_model.h5')\n",
        "\n",
        "#Loading a model from file\n",
        "reconstructed_model = keras.models.load_model(\"my_model.h5\")"
      ],
      "metadata": {
        "id": "Fc8kRbY5Y5bs"
      },
      "execution_count": 21,
      "outputs": []
    }
  ]
}